{
 "cells": [
  {
   "cell_type": "markdown",
   "id": "491878ca-a7c3-4d65-ab61-7312a92e46c5",
   "metadata": {},
   "source": [
    "Come esercizio vorrei giocare sulla solita vecchia idea di alberto. In particolare considerazioni sulla regressione lineare e logistica."
   ]
  },
  {
   "cell_type": "markdown",
   "id": "3b8699ab-37cc-4218-8406-12975209502a",
   "metadata": {},
   "source": [
    "Come primo passo generiamo dati da una regressione lineare:"
   ]
  },
  {
   "cell_type": "code",
   "execution_count": 979,
   "id": "f20253dc-e7b9-419d-9711-64b78bd6b139",
   "metadata": {},
   "outputs": [],
   "source": [
    "import numpy as np\n",
    "import matplotlib.pyplot as plt\n",
    "from tqdm import tqdm"
   ]
  },
  {
   "cell_type": "code",
   "execution_count": 981,
   "id": "7e3f7bb9-bc66-4775-ba9d-8a5309c1d25b",
   "metadata": {},
   "outputs": [],
   "source": [
    "num_features = 10\n",
    "num_samples = 100\n",
    "\n",
    "X_true = np.random.uniform(low=-1, high=1, size=(num_samples,num_features))\n",
    "beta_true = np.random.uniform(low=-10,high=10,size= num_features)\n",
    "error_output = np.random.randn(num_samples)\n",
    "y_true = X_true.dot(beta_true) + error_output"
   ]
  },
  {
   "cell_type": "markdown",
   "id": "612ebbb5-2625-4527-9a5e-53b36b8d5798",
   "metadata": {},
   "source": [
    "Standard solution:"
   ]
  },
  {
   "cell_type": "code",
   "execution_count": 982,
   "id": "3941bd7c-7c65-4935-bb88-ea4e96bae489",
   "metadata": {},
   "outputs": [
    {
     "data": {
      "text/plain": [
       "array([-380.81716082,  325.46871395, -359.18089665,  135.62961824,\n",
       "       -195.9796946 , -333.84050995,   78.87232927, -192.60309131,\n",
       "       -266.6845724 ,  -29.22503611])"
      ]
     },
     "execution_count": 982,
     "metadata": {},
     "output_type": "execute_result"
    }
   ],
   "source": [
    "X_true.T.dot(y_true)"
   ]
  },
  {
   "cell_type": "code",
   "execution_count": 983,
   "id": "cbe93050-4c1f-4636-b12b-a62d04bfa946",
   "metadata": {},
   "outputs": [
    {
     "data": {
      "text/plain": [
       "array([-383.97576919,  322.30065548, -370.38516021,  138.42566134,\n",
       "       -181.81980362, -331.62408591,   79.1777432 , -192.64903468,\n",
       "       -266.97971731,  -33.43383079])"
      ]
     },
     "execution_count": 983,
     "metadata": {},
     "output_type": "execute_result"
    }
   ],
   "source": [
    "(X_true.T.dot(X_true)).dot(beta_true)"
   ]
  },
  {
   "cell_type": "markdown",
   "id": "5096c66c-2e1a-454a-b4b1-039ceafca9f5",
   "metadata": {},
   "source": [
    "It is not exactly equal, but very close. The issue is in fact with the error term."
   ]
  },
  {
   "cell_type": "code",
   "execution_count": 984,
   "id": "64163c06-1c99-472d-b083-52434c754828",
   "metadata": {},
   "outputs": [],
   "source": [
    "est_beta = np.linalg.inv(X_true.T.dot(X_true)).dot(X_true.T.dot(y_true))"
   ]
  },
  {
   "cell_type": "code",
   "execution_count": 985,
   "id": "bbac1434-c11d-413d-8907-d1068a2cf266",
   "metadata": {},
   "outputs": [
    {
     "data": {
      "text/plain": [
       "array([-9.52287189,  6.21846259, -5.90075299,  4.67397886, -3.8532676 ,\n",
       "       -8.59388942, -3.45991087, -9.51669519, -9.75438734,  3.1005236 ])"
      ]
     },
     "execution_count": 985,
     "metadata": {},
     "output_type": "execute_result"
    }
   ],
   "source": [
    "est_beta"
   ]
  },
  {
   "cell_type": "code",
   "execution_count": 986,
   "id": "a98f8d5e-92ec-4487-9609-2f5f18433d0d",
   "metadata": {
    "tags": []
   },
   "outputs": [
    {
     "data": {
      "text/plain": [
       "array([-9.59466621,  6.1181167 , -6.26936195,  4.84999154, -3.36333928,\n",
       "       -8.41537117, -3.41206711, -9.5361569 , -9.75453851,  3.02316673])"
      ]
     },
     "execution_count": 986,
     "metadata": {},
     "output_type": "execute_result"
    }
   ],
   "source": [
    "beta_true"
   ]
  },
  {
   "cell_type": "code",
   "execution_count": 987,
   "id": "63ef9e3f-7541-4310-9512-5adcc22f708d",
   "metadata": {},
   "outputs": [],
   "source": [
    "def ext_direct(x, mat=X_true):\n",
    "    return mat.dot(x)\n",
    "\n",
    "def ext_reverse(x, mat=X_true):\n",
    "    return mat.T.dot(x)"
   ]
  },
  {
   "cell_type": "code",
   "execution_count": 996,
   "id": "ab997fb3-2944-4b0b-ba78-dda6275aec37",
   "metadata": {},
   "outputs": [
    {
     "data": {
      "text/plain": [
       "array([-380.81716082,  325.46871395, -359.18089665,  135.62961824,\n",
       "       -195.9796946 , -333.84050995,   78.87232927, -192.60309131,\n",
       "       -266.6845724 ,  -29.22503611])"
      ]
     },
     "execution_count": 996,
     "metadata": {},
     "output_type": "execute_result"
    }
   ],
   "source": [
    "ext_reverse(y_true, mat=X_true)"
   ]
  },
  {
   "cell_type": "code",
   "execution_count": 997,
   "id": "dcaee255-0b33-460a-975f-1f1732a3818a",
   "metadata": {},
   "outputs": [
    {
     "data": {
      "text/plain": [
       "array([-383.97576919,  322.30065548, -370.38516021,  138.42566134,\n",
       "       -181.81980362, -331.62408591,   79.1777432 , -192.64903468,\n",
       "       -266.97971731,  -33.43383079])"
      ]
     },
     "execution_count": 997,
     "metadata": {},
     "output_type": "execute_result"
    }
   ],
   "source": [
    "ext_reverse(ext_direct(beta_true, mat=X_true), mat=X_true)"
   ]
  },
  {
   "cell_type": "code",
   "execution_count": 999,
   "id": "3e616a02-020a-42d3-9f10-d97d34b63627",
   "metadata": {},
   "outputs": [
    {
     "data": {
      "text/plain": [
       "array([-0.3556315 ,  5.5475956 ,  5.99825521,  7.42778942, -7.99830739,\n",
       "       -0.67992713, -1.6123885 ,  5.22952495,  4.72878703,  0.55194742])"
      ]
     },
     "execution_count": 999,
     "metadata": {},
     "output_type": "execute_result"
    }
   ],
   "source": [
    "beta_start = np.random.uniform(low=-10,high=10,size= num_features)\n",
    "beta = beta_start.copy()\n",
    "beta"
   ]
  },
  {
   "cell_type": "code",
   "execution_count": 1000,
   "id": "8441a43b-fb0b-4359-bda9-2b3d024e3775",
   "metadata": {},
   "outputs": [],
   "source": [
    "list_diff = []\n",
    "\n",
    "for i in range(50):\n",
    "    beta = beta + 0.01*ext_reverse(y_true-ext_direct(beta))\n",
    "    mse = np.mean((y_true - ext_direct(beta))**2)\n",
    "    list_diff.append(np.linalg.norm(mse))   "
   ]
  },
  {
   "cell_type": "code",
   "execution_count": 1001,
   "id": "1c235716-c459-4fe1-9c5b-a34558258edd",
   "metadata": {},
   "outputs": [
    {
     "data": {
      "text/plain": [
       "[<matplotlib.lines.Line2D at 0x124243350>]"
      ]
     },
     "execution_count": 1001,
     "metadata": {},
     "output_type": "execute_result"
    },
    {
     "data": {
      "image/png": "[encoded data removed]",
      "text/plain": [
       "<Figure size 640x480 with 1 Axes>"
      ]
     },
     "metadata": {},
     "output_type": "display_data"
    }
   ],
   "source": [
    "plt.plot(list_diff)"
   ]
  },
  {
   "cell_type": "code",
   "execution_count": 1002,
   "id": "a310c5b4-a57e-4c14-b504-0304c17a4fe4",
   "metadata": {},
   "outputs": [
    {
     "data": {
      "text/plain": [
       "array([-9.52269185,  6.21874248, -5.90103265,  4.67358943, -3.85334479,\n",
       "       -8.59343666, -3.45920016, -9.5161948 , -9.75345399,  3.10033694])"
      ]
     },
     "execution_count": 1002,
     "metadata": {},
     "output_type": "execute_result"
    }
   ],
   "source": [
    "beta"
   ]
  },
  {
   "cell_type": "code",
   "execution_count": 1003,
   "id": "316c4bf4-354d-49eb-950e-7a3630bd4f99",
   "metadata": {},
   "outputs": [
    {
     "data": {
      "text/plain": [
       "array([-9.59466621,  6.1181167 , -6.26936195,  4.84999154, -3.36333928,\n",
       "       -8.41537117, -3.41206711, -9.5361569 , -9.75453851,  3.02316673])"
      ]
     },
     "execution_count": 1003,
     "metadata": {},
     "output_type": "execute_result"
    }
   ],
   "source": [
    "beta_true"
   ]
  },
  {
   "cell_type": "code",
   "execution_count": 1004,
   "id": "4821e62f-1f5f-49a5-a2a9-bfbc03e9a83c",
   "metadata": {},
   "outputs": [
    {
     "data": {
      "text/plain": [
       "array([-9.52287189,  6.21846259, -5.90075299,  4.67397886, -3.8532676 ,\n",
       "       -8.59388942, -3.45991087, -9.51669519, -9.75438734,  3.1005236 ])"
      ]
     },
     "execution_count": 1004,
     "metadata": {},
     "output_type": "execute_result"
    }
   ],
   "source": [
    "est_beta"
   ]
  },
  {
   "cell_type": "markdown",
   "id": "047e0ed3-3070-4377-b798-e25549867576",
   "metadata": {},
   "source": [
    "Vediamo cosa succede con una regressione logistica, o filtrata da una relu."
   ]
  },
  {
   "cell_type": "code",
   "execution_count": 1023,
   "id": "4442544c-ea9b-484a-be74-212009d30649",
   "metadata": {},
   "outputs": [],
   "source": [
    "from scipy.special import expit, logit\n",
    "\n",
    "X_true = np.random.uniform(low=-1, high=1, size=(num_samples,num_features))\n",
    "beta_true = np.random.uniform(low=-10,high=10,size= num_features)\n",
    "error_output = np.random.randn(num_samples)\n",
    "y_true = expit(X_true.dot(beta_true) + 0.0* error_output)"
   ]
  },
  {
   "cell_type": "code",
   "execution_count": 1024,
   "id": "34458b25-5b45-4736-be4b-f92b4536e1c1",
   "metadata": {},
   "outputs": [
    {
     "data": {
      "text/plain": [
       "array([3.92537408e-126, 3.19274119e-050, 4.35459753e-052, 1.00000000e+000,\n",
       "       1.00000000e+000, 1.00000000e+000, 1.00000000e+000, 7.98360684e-004,\n",
       "       1.60383223e-042, 1.00000000e+000])"
      ]
     },
     "execution_count": 1024,
     "metadata": {},
     "output_type": "execute_result"
    }
   ],
   "source": [
    "expit(X_true.T.dot(logit(y_true)))"
   ]
  },
  {
   "cell_type": "code",
   "execution_count": 1025,
   "id": "54fea21d-e468-4533-bf21-a2d55e530566",
   "metadata": {},
   "outputs": [],
   "source": [
    "def ext_direct(x, mat=X_true):\n",
    "    return expit(mat.dot(x))\n",
    "\n",
    "def ext_reverse(x, mat=X_true):\n",
    "    return mat.T.dot(x)"
   ]
  },
  {
   "cell_type": "code",
   "execution_count": 1044,
   "id": "e70bcb76-98a7-4377-9546-e73c2e6556f1",
   "metadata": {},
   "outputs": [
    {
     "data": {
      "text/plain": [
       "array([ 2.73521293, -0.13276452,  4.21047431,  6.51219144,  6.42249804,\n",
       "        6.75849689,  9.73368335,  1.68380183,  4.49910215,  8.4589604 ])"
      ]
     },
     "execution_count": 1044,
     "metadata": {},
     "output_type": "execute_result"
    }
   ],
   "source": [
    "beta_start = np.random.uniform(low=-10,high=10,size= num_features)\n",
    "beta = beta_start.copy()\n",
    "beta"
   ]
  },
  {
   "cell_type": "code",
   "execution_count": 1045,
   "id": "f137948c-466b-4d77-8b4a-30386ca13c6e",
   "metadata": {},
   "outputs": [],
   "source": [
    "list_diff = []\n",
    "\n",
    "for i in range(5000):\n",
    "    beta = beta + 0.01 * ext_reverse(y_true-ext_direct(beta))\n",
    "    mse = np.mean((y_true - ext_direct(beta))**2)\n",
    "    list_diff.append(np.linalg.norm(mse))   "
   ]
  },
  {
   "cell_type": "code",
   "execution_count": 1046,
   "id": "02ca1e1a-d13f-4de3-93f4-6d7c5de3344b",
   "metadata": {},
   "outputs": [
    {
     "data": {
      "text/plain": [
       "[<matplotlib.lines.Line2D at 0x124579390>]"
      ]
     },
     "execution_count": 1046,
     "metadata": {},
     "output_type": "execute_result"
    },
    {
     "data": {
      "image/png": "[encoded data removed]",
      "text/plain": [
       "<Figure size 640x480 with 1 Axes>"
      ]
     },
     "metadata": {},
     "output_type": "display_data"
    }
   ],
   "source": [
    "plt.plot(list_diff)"
   ]
  },
  {
   "cell_type": "code",
   "execution_count": 1047,
   "id": "5a7c9c2d-26d7-4e7d-b5de-6aa019f6d57a",
   "metadata": {},
   "outputs": [
    {
     "data": {
      "text/plain": [
       "array([-5.94822753, -1.95101022, -0.60539312,  0.64105963,  8.42596553,\n",
       "        9.00611669,  2.22166096,  0.40230609, -1.5317904 ,  6.82098516])"
      ]
     },
     "execution_count": 1047,
     "metadata": {},
     "output_type": "execute_result"
    }
   ],
   "source": [
    "beta"
   ]
  },
  {
   "cell_type": "code",
   "execution_count": 1048,
   "id": "4ccb2c6e-6472-40f9-889c-91fd6751f393",
   "metadata": {},
   "outputs": [
    {
     "data": {
      "text/plain": [
       "array([-5.98235642, -1.96415769, -0.60994065,  0.64414061,  8.48614086,\n",
       "        9.07343331,  2.24126586,  0.40981007, -1.5429695 ,  6.87256706])"
      ]
     },
     "execution_count": 1048,
     "metadata": {},
     "output_type": "execute_result"
    }
   ],
   "source": [
    "beta_true"
   ]
  },
  {
   "cell_type": "code",
   "execution_count": 1049,
   "id": "97758e52-2308-4dd1-ba71-b7c6ae1aba85",
   "metadata": {},
   "outputs": [],
   "source": [
    "beta = beta_start"
   ]
  },
  {
   "cell_type": "code",
   "execution_count": 1050,
   "id": "997c3794-3443-4ad3-9752-97c97a217108",
   "metadata": {},
   "outputs": [],
   "source": [
    "beta = beta + 0.01*(ext_reverse(y_true)-ext_reverse(ext_direct(beta)))"
   ]
  },
  {
   "cell_type": "markdown",
   "id": "7ddad4a4-1764-4d10-956e-867669a11005",
   "metadata": {},
   "source": [
    "## Neural network"
   ]
  },
  {
   "cell_type": "code",
   "execution_count": 1054,
   "id": "9de1e59f-0719-41ca-a8fb-44c1eb28538b",
   "metadata": {},
   "outputs": [],
   "source": [
    "num_features = 10\n",
    "num_samples = 100\n",
    "num_hidden_units = 20\n",
    "\n",
    "X_true = np.random.uniform(low=0, high=1, size=(num_samples,num_features))\n",
    "W1_true = np.random.uniform(low=-10,high=10,size= (num_features,num_hidden_units))\n",
    "W2_true = np.random.uniform(low=-10,high=10,size= (num_hidden_units,1))\n",
    "\n",
    "error_output = np.random.randn(num_samples).reshape(num_samples,1)\n",
    "error_output_hidd = np.random.randn(num_samples,num_hidden_units)\n",
    "y_true = expit(expit(X_true.dot(W1_true)+error_output_hidd).dot(W2_true) + error_output) "
   ]
  },
  {
   "cell_type": "code",
   "execution_count": 1055,
   "id": "b59005b4-c8b0-4c52-ba21-546078a217de",
   "metadata": {},
   "outputs": [],
   "source": [
    "def ext_direct(x, mat=X_true):\n",
    "    return expit(mat.dot(x))\n",
    "\n",
    "def ext_direct_combined(w1, w2, mat=X_true):\n",
    "    return ext_direct(w2,ext_direct(w1,X_true))"
   ]
  },
  {
   "cell_type": "code",
   "execution_count": null,
   "id": "60c6d7e3-380c-4a74-b339-dc241f259df3",
   "metadata": {},
   "outputs": [],
   "source": [
    "def ext_reverse(x, mat=X_true):\n",
    "    return mat.T.dot(x)\n",
    "\n",
    "def ext_reverse_combined(y, w2, mat=X_true):\n",
    "    return (logit(y).dot(w2.T)).T.dot(mat)"
   ]
  },
  {
   "cell_type": "code",
   "execution_count": 973,
   "id": "aec71a21-4943-4e17-abce-af21dc03ff3d",
   "metadata": {},
   "outputs": [],
   "source": [
    "def ext_reverse(x, mat=X_true):\n",
    "    return mat.T.dot(logit(x))\n",
    "\n",
    "def ext_reverse_combined(y, w2, mat=X_true):\n",
    "    prova = w2.dot(logit(y.T*c))\n",
    "    prova = prova/np.linalg.norm(prova,axis=0,keepdims=True)\n",
    "    return ext_reverse(expit(prova).T,X_true)"
   ]
  },
  {
   "cell_type": "code",
   "execution_count": 974,
   "id": "6402f306-dd91-47b1-8f77-f2a02c1b7f88",
   "metadata": {},
   "outputs": [],
   "source": [
    "def ext_reverse(x, mat=X_true):\n",
    "    return mat.T.dot(logit(x))\n",
    "\n",
    "def ext_reverse_combined(y, w2, mat=X_true):\n",
    "    return (logit(y).dot(w2.T)).T.dot(mat)"
   ]
  },
  {
   "cell_type": "code",
   "execution_count": 1056,
   "id": "b72d0e48-11b9-4e84-bcb5-2c76a1914517",
   "metadata": {},
   "outputs": [],
   "source": [
    "W1_start = np.random.uniform(low=-10,high=10,size= (num_features,num_hidden_units))\n",
    "W2_start = np.random.uniform(low=-10,high=10,size= (num_hidden_units,1))\n",
    "W1 = W1_start.copy()\n",
    "W2 = W2_start.copy()"
   ]
  },
  {
   "cell_type": "code",
   "execution_count": 1057,
   "id": "e615a478-7ac3-4c27-a312-99599605bf61",
   "metadata": {},
   "outputs": [
    {
     "name": "stderr",
     "output_type": "stream",
     "text": [
      "100%|███████████████████████████████████████| 100/100 [00:00<00:00, 3949.77it/s]\n"
     ]
    }
   ],
   "source": [
    "list_diff = []\n",
    "delta_1 = 0.001\n",
    "delta_2 = 0.001\n",
    "\n",
    "for i in tqdm(range(100)):\n",
    "    \n",
    "    X1 = ext_direct(W1, X_true)\n",
    "    X2 = ext_direct(W2, X1)\n",
    "    \n",
    "    W2 = W2 + delta_2 * X1.T.dot(y_true-X2)\n",
    "    W1 = W1 + delta_1 * X_true.T.dot((y_true-X2).dot(W2.T))\n",
    "\n",
    "    mse = np.mean((y_true-X2)**2)\n",
    "    list_diff.append(np.linalg.norm(mse))    "
   ]
  },
  {
   "cell_type": "code",
   "execution_count": 1060,
   "id": "80266db8-a196-4517-a8e7-95cd34fe4769",
   "metadata": {},
   "outputs": [
    {
     "data": {
      "text/plain": [
       "[<matplotlib.lines.Line2D at 0x124754310>]"
      ]
     },
     "execution_count": 1060,
     "metadata": {},
     "output_type": "execute_result"
    },
    {
     "data": {
      "image/png": "[encoded data removed]",
      "text/plain": [
       "<Figure size 640x480 with 1 Axes>"
      ]
     },
     "metadata": {},
     "output_type": "display_data"
    }
   ],
   "source": [
    "plt.plot(list_diff)"
   ]
  },
  {
   "cell_type": "code",
   "execution_count": null,
   "id": "d55de6ad-8c85-400a-803c-f8f321f293b4",
   "metadata": {},
   "outputs": [],
   "source": []
  },
  {
   "cell_type": "code",
   "execution_count": null,
   "id": "8e174e39-660b-4b20-8e12-1e9b473f0c1e",
   "metadata": {},
   "outputs": [],
   "source": []
  },
  {
   "cell_type": "code",
   "execution_count": null,
   "id": "3cd70690-8290-4463-86e8-367e4d2f3cf1",
   "metadata": {},
   "outputs": [],
   "source": []
  },
  {
   "cell_type": "code",
   "execution_count": null,
   "id": "3121d5ed-0fad-425d-9c82-0cef9ce4b31e",
   "metadata": {},
   "outputs": [],
   "source": []
  },
  {
   "cell_type": "code",
   "execution_count": null,
   "id": "7c540f14-a87d-4035-b568-98134baa6b2c",
   "metadata": {},
   "outputs": [],
   "source": []
  },
  {
   "cell_type": "code",
   "execution_count": null,
   "id": "d154eeca-d551-4516-904f-2956c2148788",
   "metadata": {},
   "outputs": [],
   "source": []
  }
 ],
 "metadata": {
  "kernelspec": {
   "display_name": "Python 3 (ipykernel)",
   "language": "python",
   "name": "python3"
  },
  "language_info": {
   "codemirror_mode": {
    "name": "ipython",
    "version": 3
   },
   "file_extension": ".py",
   "mimetype": "text/x-python",
   "name": "python",
   "nbconvert_exporter": "python",
   "pygments_lexer": "ipython3",
   "version": "3.11.1"
  }
 },
 "nbformat": 4,
 "nbformat_minor": 5
}
